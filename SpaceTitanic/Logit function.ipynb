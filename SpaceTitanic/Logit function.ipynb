{
 "cells": [
  {
   "cell_type": "code",
   "execution_count": 4,
   "metadata": {},
   "outputs": [],
   "source": [
    "train = pd.read_excel('train_1.xlsx')\n",
    "test = pd.read_excel('test_1.xlsx')"
   ]
  },
  {
   "cell_type": "code",
   "execution_count": 64,
   "metadata": {},
   "outputs": [],
   "source": [
    "def logitModel(y, X):\n",
    "    import pandas as pd \n",
    "    import numpy as np\n",
    "    import statsmodels.api as sm\n",
    "\n",
    "    logit = sm.Logit(y, X).fit()\n",
    "    y_pred = logit.predict()\n",
    "    y_pred_dicotomica = (y_pred>0.5).astype(int)\n",
    "    out = [y.loc[x, 'Transported'] == y_pred_dicotomica[x] for x in range(y.shape[0])]\n",
    "    return(sum(out)/y.shape[0])"
   ]
  }
 ],
 "metadata": {
  "kernelspec": {
   "display_name": "base",
   "language": "python",
   "name": "python3"
  },
  "language_info": {
   "codemirror_mode": {
    "name": "ipython",
    "version": 3
   },
   "file_extension": ".py",
   "mimetype": "text/x-python",
   "name": "python",
   "nbconvert_exporter": "python",
   "pygments_lexer": "ipython3",
   "version": "3.9.7"
  },
  "orig_nbformat": 4,
  "vscode": {
   "interpreter": {
    "hash": "0bcd3c304b4ec7d3d457571a82731827ff9d60623e6c0c19a12a8cff5fa685c7"
   }
  }
 },
 "nbformat": 4,
 "nbformat_minor": 2
}
