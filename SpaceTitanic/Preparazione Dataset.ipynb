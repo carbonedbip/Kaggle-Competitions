{
 "cells": [
  {
   "cell_type": "code",
   "execution_count": 136,
   "id": "8e9a46d2",
   "metadata": {},
   "outputs": [],
   "source": [
    "import pandas as pd\n",
    "import seaborn as sns\n",
    "import math\n",
    "import numpy as np\n",
    "from collections import Counter\n",
    "from sklearn.impute import SimpleImputer\n",
    "from sklearn.preprocessing import OneHotEncoder\n",
    "from sklearn.preprocessing import LabelEncoder\n",
    "from sklearn.preprocessing import StandardScaler\n",
    "from sklearn.preprocessing import MinMaxScaler\n"
   ]
  },
  {
   "cell_type": "code",
   "execution_count": 164,
   "id": "286e7c77",
   "metadata": {},
   "outputs": [],
   "source": [
    "#imputo la moda\n",
    "\n",
    "def imputo_moda(df):\n",
    "    mode_imputer = SimpleImputer(strategy='most_frequent')\n",
    "    df_2 = df.copy()\n",
    "    df_2.iloc[:,:] = mode_imputer.fit_transform(df_2)\n",
    "    return(df_2)\n",
    "\n",
    "#One Hot Encoding\n",
    "\n",
    "def OHE(df,lista_colonne):\n",
    "\n",
    "    for nome_colonna in lista_colonne:\n",
    "        df_onehot_encoded = pd.get_dummies(df[nome_colonna])\n",
    "        df = pd.concat([df, df_onehot_encoded], axis=1)\n",
    "\n",
    "    df.drop(labels = lista_colonne, inplace=True,axis=1)\n",
    "    return(df)\n",
    "    \n",
    "#trasformo true/falso in 0/1\n",
    "\n",
    "def TrueFalsetoInt(df,lista_colonne):\n",
    "\n",
    "    for nome_colonna in lista_colonne:\n",
    "        df[nome_colonna] = df[nome_colonna]*1\n",
    "    return(df)"
   ]
  },
  {
   "cell_type": "code",
   "execution_count": 165,
   "id": "92eb62f9",
   "metadata": {},
   "outputs": [],
   "source": [
    "df_train = pd.read_csv(\"train.csv\")\n"
   ]
  },
  {
   "cell_type": "code",
   "execution_count": 166,
   "id": "eed775ff",
   "metadata": {},
   "outputs": [],
   "source": [
    "#Splitto la cabina\n",
    "\n",
    "df_cabin = df_train['Cabin'].str.split(\"/\",expand=True)\n",
    "df_cabin.columns = ['deck', 'num', 'side']\n",
    "\n",
    "df_train = pd.concat([df_train, df_cabin], axis=1)\n",
    "df_train.drop(labels = 'Cabin', inplace=True,axis=1)"
   ]
  },
  {
   "cell_type": "code",
   "execution_count": 167,
   "id": "cd217bd1",
   "metadata": {},
   "outputs": [],
   "source": [
    "#Imputo tutto con la moda\n",
    "df_train_2 = imputo_moda(df_train)"
   ]
  },
  {
   "cell_type": "code",
   "execution_count": 168,
   "id": "e9211b25",
   "metadata": {},
   "outputs": [],
   "source": [
    "def categorical_variable(df,feature_name,type_eng):\n",
    "\n",
    "    if type_eng==\"One-Hot-Encoding\":\n",
    "        df_onehot_encoded = pd.get_dummies(df[feature_name])\n",
    "\n",
    "        df_new = pd.concat([df, df_onehot_encoded], axis=1)\n",
    "        df_new.drop(labels = [feature_name], inplace=True,axis=1)\n",
    "        return(df_new)\n",
    "\n",
    "    if type_eng==\"One-Hot-Encoding-one-less\":\n",
    "\n",
    "        df_onehot_encoded = pd.get_dummies(df[feature_name]).iloc[: , 1:] #ignora la prima colonna creata\n",
    "\n",
    "        df_new = pd.concat([df, df_onehot_encoded], axis=1)\n",
    "        df_new.drop(labels = [feature_name], inplace=True,axis=1)\n",
    "        return(df_new)\n",
    "    \n",
    "    if type_eng==\"Label-encoding\":\n",
    "\n",
    "        labelencoder = LabelEncoder()\n",
    "\n",
    "        df_new=df.copy()\n",
    "        df_new[feature_name] = labelencoder.fit_transform(df_new[feature_name])\n",
    "        return(df_new)\n",
    "    \n",
    "    if type_eng==\"Categorical\":\n",
    "\n",
    "        return(df)\n"
   ]
  },
  {
   "cell_type": "code",
   "execution_count": 169,
   "id": "7d53d6c2",
   "metadata": {},
   "outputs": [],
   "source": [
    "def numerical_variable(df, feature_name, type_eng, type_sub_eng, category_boundaries):\n",
    "\n",
    "    if type_eng==\"Numerical\":\n",
    "\n",
    "        return(df)\n",
    "    \n",
    "    if type_eng==\"Standardization\":\n",
    "        scaler = StandardScaler()\n",
    "        df_new=df.copy()\n",
    "        df_new[feature_name] = scaler.fit_transform(df_new[feature_name])\n",
    "        return(df_new)\n",
    "\n",
    "    if type_eng==\"Min-max\":\n",
    "        scaler = MinMaxScaler()\n",
    "        df_new=df.copy()\n",
    "        df_new[feature_name] = scaler.fit_transform(df_new[feature_name])\n",
    "        return(df_new)    \n",
    "    \n",
    "    if type_eng==\"Category\":\n",
    "        df_new = df.copy()\n",
    "        labels = [*range(len(category_boundaries)-1)]\n",
    "        labels = [feature_name+\"_\"+str(s)  for s in labels]\n",
    "        df_new[feature_name] = pd.cut(df_new[feature_name],category_boundaries,labels=labels,include_lowest=True)\n",
    "\n",
    "        return(categorical_variable(df_new,feature_name,type_sub_eng))   \n",
    "            \n",
    "\n"
   ]
  },
  {
   "cell_type": "code",
   "execution_count": 170,
   "id": "2756cc3c",
   "metadata": {},
   "outputs": [],
   "source": [
    "variabili_categoriche = [\"HomePlanet\",\"CryoSleep\",\"Destination\",\"VIP\",\"side\",\"deck\"]\n",
    "variabili_numeriche = [\"Age\",\"RoomService\",\"FoodCourt\",\"ShoppingMall\",\"Spa\",\"VRDeck\"]\n",
    "variabili_inutili = ['PassengerId','Name','num']"
   ]
  },
  {
   "cell_type": "code",
   "execution_count": 171,
   "id": "8146fa5d",
   "metadata": {},
   "outputs": [],
   "source": [
    "#Elimino le variabili inutili\n",
    "\n",
    "df_train_2.drop(labels = ['PassengerId','Name','num'], inplace=True,axis=1)\n",
    "\n",
    "#Eseguo tutte le combinazioni di lavorazioni che ha senso fare\n",
    "\n",
    "lavorazioni_categoriche = [\"One-Hot-Encoding\",\"One-Hot-Encoding-one-less\",\"Label-encoding\"]\n",
    "lavorazioni_numeriche = [\"Numerical\",\"Standardization\",\"Min-max\",\n",
    "                        #[\"Category\",\"One-Hot-Encoding\"],\n",
    "                        #[\"Category\",\"One-Hot-Encoding-one-less\"],\n",
    "                        #[\"Category\",\"Label-encoding\"],\n",
    "                        ]\n"
   ]
  },
  {
   "cell_type": "code",
   "execution_count": 172,
   "id": "2b9e402c",
   "metadata": {},
   "outputs": [
    {
     "name": "stdout",
     "output_type": "stream",
     "text": [
      "729 0\n",
      "2187 1\n",
      "6561 2\n",
      "19683 3\n",
      "59049 4\n",
      "177147 5\n"
     ]
    }
   ],
   "source": [
    "#Lista Lavorazioni\n",
    "\n",
    "from itertools import product\n",
    "\n",
    "A=[]\n",
    "for i in range(len(variabili_categoriche)-1):\n",
    "    if i==0:\n",
    "        A=list(product(lavorazioni_categoriche,lavorazioni_categoriche))\n",
    "    else:\n",
    "        A=list(product(A,lavorazioni_categoriche))\n",
    "        A=[(*x,z) for x, z in A]\n",
    "\n",
    "for i in range(len(variabili_numeriche)):\n",
    "    print(len(A),i)    \n",
    "    A=list(product(A,lavorazioni_numeriche))\n",
    "    A=[(*x,z) for x, z in A]\n",
    "\n",
    "df_lavorazioni = pd.DataFrame(A,columns=variabili_categoriche+variabili_numeriche)\n"
   ]
  },
  {
   "cell_type": "code",
   "execution_count": 173,
   "id": "3a60579b",
   "metadata": {},
   "outputs": [],
   "source": [
    "#Adaline\n"
   ]
  },
  {
   "cell_type": "code",
   "execution_count": 174,
   "id": "014a724c",
   "metadata": {},
   "outputs": [],
   "source": [
    "def net_input(w_, X):\n",
    "    \"\"\"Calculate net input\"\"\"\n",
    "    return np.dot(X, w_[1:]) + w_[0]\n",
    "\n",
    "def activation(self, X):\n",
    "    \"\"\"Compute linear activation\"\"\"\n",
    "    return X\n",
    "\n",
    "def predict(self, X):\n",
    "    \"\"\"Return class label after unit step\"\"\"\n",
    "    return np.where(self.activation(self.net_input(X)) >= 0.0, 1, -1)"
   ]
  },
  {
   "cell_type": "code",
   "execution_count": 175,
   "id": "210aea18",
   "metadata": {},
   "outputs": [],
   "source": [
    "#creo i vari dataframe e testo il modello\n",
    "\n",
    "n_iter=2000\n",
    "eta= 0.0000001\n",
    "random_state=1\n",
    "\n",
    "y_train = df_train_2[\"Transported\"].replace(0,-1)\n",
    "X_train = df_train_2.drop(columns=[\"Transported\"])\n"
   ]
  },
  {
   "cell_type": "code",
   "execution_count": null,
   "id": "3127d2ff",
   "metadata": {},
   "outputs": [],
   "source": []
  },
  {
   "cell_type": "code",
   "execution_count": 181,
   "id": "2f5a371d",
   "metadata": {},
   "outputs": [
    {
     "name": "stdout",
     "output_type": "stream",
     "text": [
      "0.0\n"
     ]
    }
   ],
   "source": [
    "from sklearn.model_selection import train_test_split\n",
    "\n",
    "\n",
    "\n",
    "for row in range(len(df_lavorazioni)):\n",
    "    \n",
    "    df=df_train_2.copy()\n",
    "\n",
    "\n",
    "    for feature in df_lavorazioni.columns:\n",
    "\n",
    "        lavorazione = df_lavorazioni.loc[0,feature]\n",
    "        if feature in variabili_categoriche:\n",
    "            df=categorical_variable(df,feature,lavorazione)\n",
    "        else:\n",
    "            df=numerical_variable(df,feature,lavorazione,1,1)\n",
    "            df =numerical_variable(df,feature,lavorazione,1,1)              \n",
    "\n",
    "\n",
    "    df_train_row, df_test_row = train_test_split(df, test_size=0.3,random_state=1)\n",
    "\n",
    "    X_train = df_train_row.drop(columns=[\"Transported\"])\n",
    "    y_train = 1*df_train_row[\"Transported\"].replace(0,-1)\n",
    "\n",
    "\n",
    "    X_test = df_test_row.drop(columns=[\"Transported\"])\n",
    "    y_test = 1*df_test_row[\"Transported\"].replace(0,-1)\n",
    "\n",
    "\n",
    "    rgen = np.random.RandomState(random_state)\n",
    "    w_ = rgen.normal(loc=0.0, scale=0.01, size= 1 + X_train.shape[1])\n",
    "    cost_ = []\n",
    "\n",
    "    for i in range(n_iter):\n",
    "        output = net_input(w_ ,X_train)\n",
    "        errors = (y_train - output)\n",
    "        w_[1:] += eta * X_train.T.dot(errors)\n",
    "        w_[0] += eta * errors.sum()\n",
    "        cost = (errors**2).sum() / 2.0\n",
    "        cost_.append(cost)\n",
    "\n",
    "\n",
    "    print(sum((np.where(net_input(w_,X_test) >= 0.0, 1, -1)==y_test)*1)/len(np.where(net_input(w_,X_test) >= 0.0, 1, -1)-y_test))\n",
    "\n",
    "\n",
    "\n",
    "\n",
    "\n",
    "        \n",
    "    break"
   ]
  },
  {
   "cell_type": "code",
   "execution_count": 182,
   "id": "95fc72a7",
   "metadata": {},
   "outputs": [
    {
     "data": {
      "text/plain": [
       "1454    1\n",
       "218     0\n",
       "7866    0\n",
       "7622    1\n",
       "4108    0\n",
       "       ..\n",
       "1930    0\n",
       "7620    1\n",
       "7503    1\n",
       "6323    1\n",
       "4204    1\n",
       "Name: Transported, Length: 2608, dtype: int32"
      ]
     },
     "execution_count": 182,
     "metadata": {},
     "output_type": "execute_result"
    }
   ],
   "source": [
    "y_test"
   ]
  },
  {
   "cell_type": "code",
   "execution_count": 162,
   "id": "53332e71",
   "metadata": {},
   "outputs": [
    {
     "data": {
      "text/plain": [
       "Index([          'Age',   'RoomService',     'FoodCourt',  'ShoppingMall',\n",
       "                 'Spa',        'VRDeck',         'Earth',        'Europa',\n",
       "                'Mars',           False,            True,   '55 Cancri e',\n",
       "       'PSO J318.5-22',   'TRAPPIST-1e',           False,            True,\n",
       "                   'P',             'S',             'A',             'B',\n",
       "                   'C',             'D',             'E',             'F',\n",
       "                   'G',             'T'],\n",
       "      dtype='object')"
      ]
     },
     "execution_count": 162,
     "metadata": {},
     "output_type": "execute_result"
    }
   ],
   "source": [
    "df_train_row.columns"
   ]
  },
  {
   "cell_type": "code",
   "execution_count": 163,
   "id": "b47b8a58",
   "metadata": {},
   "outputs": [
    {
     "data": {
      "text/plain": [
       "Index([          'Age',   'RoomService',     'FoodCourt',  'ShoppingMall',\n",
       "                 'Spa',        'VRDeck',         'Earth',        'Europa',\n",
       "                'Mars',           False,            True,   '55 Cancri e',\n",
       "       'PSO J318.5-22',   'TRAPPIST-1e',           False,            True,\n",
       "                   'P',             'S',             'A',             'B',\n",
       "                   'C',             'D',             'E',             'F',\n",
       "                   'G'],\n",
       "      dtype='object')"
      ]
     },
     "execution_count": 163,
     "metadata": {},
     "output_type": "execute_result"
    }
   ],
   "source": [
    "df_test_row.columns"
   ]
  },
  {
   "cell_type": "code",
   "execution_count": null,
   "id": "2daaba90",
   "metadata": {},
   "outputs": [],
   "source": [
    "\n",
    "\n",
    "# one-hot-encoding di HomePlanet // Destination\n",
    "#Destination\n",
    "\n",
    "df_train_2 = OHE(df_train_2,['HomePlanet','Destination','side','deck'])\n",
    "df_test_2 = OHE(df_test_2,['HomePlanet','Destination','side','deck'])\n",
    "\n",
    "\n",
    "#trasformo True/False in 1/0\n",
    "\n",
    "df_train_2 = TrueFalsetoInt(df_train_2,['CryoSleep','VIP','Transported'])\n",
    "df_test_2 = TrueFalsetoInt(df_test_2,['CryoSleep','VIP'])\n",
    "\n",
    "\n",
    "#Tolgo le colonne che non mi servono o non so come usare ancora\n",
    "\n"
   ]
  },
  {
   "cell_type": "code",
   "execution_count": null,
   "id": "578b8c96",
   "metadata": {},
   "outputs": [],
   "source": [
    "df_train_2.to_excel('train_1.xlsx')\n",
    "df_test_2.to_excel('test_1.xlsx')"
   ]
  },
  {
   "cell_type": "code",
   "execution_count": null,
   "id": "a4914ea9",
   "metadata": {},
   "outputs": [
    {
     "name": "stdout",
     "output_type": "stream",
     "text": [
      "5\n"
     ]
    }
   ],
   "source": [
    "\n",
    "print(i)"
   ]
  },
  {
   "cell_type": "code",
   "execution_count": null,
   "id": "a6bac301",
   "metadata": {},
   "outputs": [],
   "source": []
  }
 ],
 "metadata": {
  "kernelspec": {
   "display_name": "base",
   "language": "python",
   "name": "python3"
  },
  "language_info": {
   "codemirror_mode": {
    "name": "ipython",
    "version": 3
   },
   "file_extension": ".py",
   "mimetype": "text/x-python",
   "name": "python",
   "nbconvert_exporter": "python",
   "pygments_lexer": "ipython3",
   "version": "3.9.13"
  },
  "vscode": {
   "interpreter": {
    "hash": "701dbaf3230f83973a9b2fb91e287bbd62cb1077d10499a7fb43f4150ec1175f"
   }
  }
 },
 "nbformat": 4,
 "nbformat_minor": 5
}
