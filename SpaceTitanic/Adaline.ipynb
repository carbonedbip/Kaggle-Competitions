{
 "cells": [
  {
   "cell_type": "code",
   "execution_count": 1,
   "id": "8e9a46d2",
   "metadata": {},
   "outputs": [],
   "source": [
    "import pandas as pd\n",
    "import seaborn as sns\n",
    "import math\n",
    "import numpy as np\n",
    "from collections import Counter\n",
    "from sklearn.impute import SimpleImputer\n",
    "from sklearn.preprocessing import OneHotEncoder\n",
    "import matplotlib.pyplot as plt\n",
    "\n",
    "from sklearn.preprocessing import StandardScaler\n",
    "scaler = StandardScaler()"
   ]
  },
  {
   "cell_type": "code",
   "execution_count": 2,
   "id": "2c237572",
   "metadata": {},
   "outputs": [],
   "source": [
    "def net_input(w_, X):\n",
    "    \"\"\"Calculate net input\"\"\"\n",
    "    return np.dot(X, w_[1:]) + w_[0]\n",
    "\n",
    "def activation(self, X):\n",
    "    \"\"\"Compute linear activation\"\"\"\n",
    "    return X\n",
    "\n",
    "def predict(self, X):\n",
    "    \"\"\"Return class label after unit step\"\"\"\n",
    "    return np.where(self.activation(self.net_input(X)) >= 0.0, 1, -1)"
   ]
  },
  {
   "cell_type": "code",
   "execution_count": 3,
   "id": "92eb62f9",
   "metadata": {},
   "outputs": [],
   "source": [
    "#Import Data\n",
    "\n",
    "df_train = pd.read_excel(\"train_split.xlsx\",index_col=None)\n",
    "df_test = pd.read_excel(\"test_split.xlsx\",index_col=None)\n",
    "\n",
    "#Addestramento\n",
    "\n",
    "X_train = df_train.drop(columns=[\"Transported\"])\n",
    "X_train[['Age','RoomService','FoodCourt','ShoppingMall','Spa','VRDeck']] = scaler.fit_transform(X_train[['Age','RoomService','FoodCourt','ShoppingMall','Spa','VRDeck']])\n",
    "y_train = df_train[\"Transported\"].replace(0,-1)\n",
    "\n",
    "\n",
    "#test\n",
    "\n",
    "X_test = df_test.drop(columns=[\"Transported\"])\n",
    "X_test[['Age','RoomService','FoodCourt','ShoppingMall','Spa','VRDeck']] = scaler.fit_transform(X_test[['Age','RoomService','FoodCourt','ShoppingMall','Spa','VRDeck']])\n",
    "y_test = df_test[\"Transported\"].replace(0,-1)"
   ]
  },
  {
   "cell_type": "code",
   "execution_count": 4,
   "id": "f8eae250",
   "metadata": {},
   "outputs": [],
   "source": [
    "#Parametri\n",
    "random_state = 1\n",
    "eta = 0.00000001\n",
    "n_iter = 25000"
   ]
  },
  {
   "cell_type": "code",
   "execution_count": 5,
   "id": "d8a7e0f3",
   "metadata": {},
   "outputs": [],
   "source": [
    "#Addestramento ed estrapolazione pesi w_\n",
    "\n",
    "rgen = np.random.RandomState(random_state)\n",
    "w_ = rgen.normal(loc=0.0, scale=0.01, size=1 + X_train.shape[1])\n",
    "cost_ = []\n",
    "\n",
    "for i in range(n_iter):\n",
    "    output = net_input(w_ ,X_train)\n",
    "    errors = (y_train - output)\n",
    "    w_[1:] += eta * X_train.T.dot(errors)\n",
    "    w_[0] += eta * errors.sum()\n",
    "    cost = (errors**2).sum() / 2.0\n",
    "    cost_.append(cost)\n",
    "\n",
    "#Visualizzazione simulazione\n",
    "\n",
    "#fig, ax = plt.subplots(nrows=1, ncols=2, figsize=(8, 4))\n",
    "\n",
    "#ax[0].plot(range(1, len(cost_) + 1), cost_, marker='o')\n",
    "#ax[0].set_xlabel('Epochs')\n",
    "#ax[0].set_ylabel('Sum-squared-error')\n",
    "\n",
    "\n",
    "#plt.tight_layout()\n",
    "#plt.show()"
   ]
  },
  {
   "cell_type": "code",
   "execution_count": 6,
   "id": "8dfefe30",
   "metadata": {},
   "outputs": [
    {
     "data": {
      "text/plain": [
       "0.7948619631901841"
      ]
     },
     "execution_count": 6,
     "metadata": {},
     "output_type": "execute_result"
    }
   ],
   "source": [
    "#percentuale di predizioni corrette\n",
    "\n",
    "sum((np.where(net_input(w_,X_test) >= 0.0, 1, -1)==y_test)*1)/len(np.where(net_input(w_,X_test) >= 0.0, 1, -1)-y_test)"
   ]
  },
  {
   "cell_type": "code",
   "execution_count": 7,
   "id": "b36210f9",
   "metadata": {},
   "outputs": [
    {
     "data": {
      "text/plain": [
       "array([ 0.00884951,  0.22913634, -0.04532184, -0.01393424, -0.16208951,\n",
       "        0.06711971,  0.02441389, -0.17467982, -0.15291497, -0.12520301,\n",
       "        0.11402211, -0.00468708,  0.04740662, -0.00787585, -0.04265174,\n",
       "       -0.06553004,  0.04541289, -0.00991656,  0.05085565,  0.04912506,\n",
       "       -0.01719784, -0.02757995, -0.03489214, -0.00539588,  0.00856989])"
      ]
     },
     "execution_count": 7,
     "metadata": {},
     "output_type": "execute_result"
    }
   ],
   "source": [
    "w_"
   ]
  },
  {
   "cell_type": "code",
   "execution_count": null,
   "id": "ae64dcdd",
   "metadata": {},
   "outputs": [],
   "source": []
  }
 ],
 "metadata": {
  "kernelspec": {
   "display_name": "base",
   "language": "python",
   "name": "python3"
  },
  "language_info": {
   "codemirror_mode": {
    "name": "ipython",
    "version": 3
   },
   "file_extension": ".py",
   "mimetype": "text/x-python",
   "name": "python",
   "nbconvert_exporter": "python",
   "pygments_lexer": "ipython3",
   "version": "3.9.13"
  },
  "vscode": {
   "interpreter": {
    "hash": "701dbaf3230f83973a9b2fb91e287bbd62cb1077d10499a7fb43f4150ec1175f"
   }
  }
 },
 "nbformat": 4,
 "nbformat_minor": 5
}
