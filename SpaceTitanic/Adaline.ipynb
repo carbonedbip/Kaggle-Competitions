{
 "cells": [
  {
   "cell_type": "code",
   "execution_count": 1,
   "id": "8e9a46d2",
   "metadata": {},
   "outputs": [],
   "source": [
    "import pandas as pd\n",
    "import seaborn as sns\n",
    "import math\n",
    "import numpy as np\n",
    "from collections import Counter\n",
    "from sklearn.impute import SimpleImputer\n",
    "from sklearn.preprocessing import OneHotEncoder\n",
    "import matplotlib.pyplot as plt\n",
    "# Import mlflow\n",
    "import mlflow\n",
    "\n",
    "from sklearn.preprocessing import StandardScaler\n",
    "scaler = StandardScaler()"
   ]
  },
  {
   "cell_type": "code",
   "execution_count": 2,
   "id": "2c237572",
   "metadata": {},
   "outputs": [],
   "source": [
    "def net_input(w_, X):\n",
    "    \"\"\"Calculate net input\"\"\"\n",
    "    return np.dot(X, w_[1:]) + w_[0]\n",
    "\n",
    "def activation(self, X):\n",
    "    \"\"\"Compute linear activation\"\"\"\n",
    "    return X\n",
    "\n",
    "def predict(self, X):\n",
    "    \"\"\"Return class label after unit step\"\"\"\n",
    "    return np.where(self.activation(self.net_input(X)) >= 0.0, 1, -1)"
   ]
  },
  {
   "cell_type": "code",
   "execution_count": 3,
   "id": "92eb62f9",
   "metadata": {},
   "outputs": [],
   "source": [
    "#Import Data\n",
    "\n",
    "df_train = pd.read_excel(\"train_split.xlsx\",index_col=None)\n",
    "df_test = pd.read_excel(\"test_split.xlsx\",index_col=None)\n",
    "\n",
    "#Addestramento\n",
    "\n",
    "X_train = df_train.drop(columns=[\"Transported\"])\n",
    "X_train[['Age','RoomService','FoodCourt','ShoppingMall','Spa','VRDeck']] = scaler.fit_transform(X_train[['Age','RoomService','FoodCourt','ShoppingMall','Spa','VRDeck']])\n",
    "y_train = df_train[\"Transported\"].replace(0,-1)\n",
    "\n",
    "\n",
    "#test\n",
    "\n",
    "X_test = df_test.drop(columns=[\"Transported\"])\n",
    "X_test[['Age','RoomService','FoodCourt','ShoppingMall','Spa','VRDeck']] = scaler.fit_transform(X_test[['Age','RoomService','FoodCourt','ShoppingMall','Spa','VRDeck']])\n",
    "y_test = df_test[\"Transported\"].replace(0,-1)"
   ]
  },
  {
   "cell_type": "code",
   "execution_count": 4,
   "id": "f8eae250",
   "metadata": {},
   "outputs": [],
   "source": [
    "#Parametri\n",
    "random_state = 1\n",
    "eta = 0.0000001\n",
    "n_iter = 40000"
   ]
  },
  {
   "cell_type": "code",
   "execution_count": 8,
   "id": "f010205b",
   "metadata": {},
   "outputs": [
    {
     "name": "stderr",
     "output_type": "stream",
     "text": [
      "2023/02/06 10:59:50 INFO mlflow.tracking.fluent: Experiment with name 'Adaline-1' does not exist. Creating a new experiment.\n"
     ]
    },
    {
     "data": {
      "text/plain": [
       "<Experiment: artifact_location='gs://mlflowbip_bucket/1', creation_time=1675677583221, experiment_id='1', last_update_time=1675677583221, lifecycle_stage='active', name='Adaline-1', tags={}>"
      ]
     },
     "execution_count": 8,
     "metadata": {},
     "output_type": "execute_result"
    }
   ],
   "source": [
    "#MLFLOW\n",
    "\n",
    "mlflow.set_tracking_uri(\"http://35.203.161.237:5000\")\n",
    "mlflow.set_experiment(\"Adaline-1\")\n"
   ]
  },
  {
   "cell_type": "code",
   "execution_count": 35,
   "id": "03f431fb",
   "metadata": {},
   "outputs": [],
   "source": [
    "def adaline_optimization(lista_variabili):\n",
    "\n",
    "    eta = lista_variabili[0]\n",
    "    n_iter = int(lista_variabili[1])\n",
    "\n",
    "    random_state=1\n",
    "    rgen = np.random.RandomState(random_state)\n",
    "    w_ = rgen.normal(loc=0.0, scale=0.01, size=1 + X_train.shape[1])\n",
    "    cost_ = []\n",
    "    \n",
    "\n",
    "    mlflow.set_tracking_uri(\"http://35.203.161.237:5000\")\n",
    "    mlflow.start_run(experiment_id= \"1\")\n",
    "    mlflow.log_param(\"eta\", eta)\n",
    "    mlflow.log_param(\"n_iter\", n_iter)\n",
    "\n",
    "    for i in range(n_iter):\n",
    "        output = net_input(w_ ,X_train)\n",
    "        errors = (y_train - output)\n",
    "        w_[1:] += eta * X_train.T.dot(errors)\n",
    "        w_[0] += eta * errors.sum()\n",
    "        cost = (errors**2).sum() / 2.0\n",
    "        cost_.append(cost)\n",
    "\n",
    "    score = sum((np.where(net_input(w_,X_test) >= 0.0, 1, -1)==y_test)*1)/len(np.where(net_input(w_,X_test) >= 0.0, 1, -1)-y_test)\n",
    "\n",
    "    mlflow.log_metric(\"score\",score)\n",
    "    mlflow.end_run()\n",
    "    return -1*score\n",
    "\n"
   ]
  },
  {
   "cell_type": "code",
   "execution_count": 15,
   "id": "d8a7e0f3",
   "metadata": {},
   "outputs": [],
   "source": [
    "#Addestramento ed estrapolazione pesi w_\n",
    "run_number = 1\n",
    "mlflow.start_run(run_name = \"ADA_\"+str(run_number), )\n",
    "\n",
    "rgen = np.random.RandomState(random_state)\n",
    "w_ = rgen.normal(loc=0.0, scale=0.01, size=1 + X_train.shape[1])\n",
    "cost_ = []\n",
    "\n",
    "mlflow.log_param(\"eta\", eta)\n",
    "mlflow.log_param(\"n_iter\", n_iter)\n",
    "\n",
    "for i in range(n_iter):\n",
    "    output = net_input(w_ ,X_train)\n",
    "    errors = (y_train - output)\n",
    "    w_[1:] += eta * X_train.T.dot(errors)\n",
    "    w_[0] += eta * errors.sum()\n",
    "    cost = (errors**2).sum() / 2.0\n",
    "    cost_.append(cost)\n",
    "\n",
    "score = sum((np.where(net_input(w_,X_test) >= 0.0, 1, -1)==y_test)*1)/len(np.where(net_input(w_,X_test) >= 0.0, 1, -1)-y_test)\n",
    "\n",
    "mlflow.log_metric(\"score\",score)\n",
    "\n",
    "mlflow.end_run()\n",
    "\n",
    "#Visualizzazione simulazione\n",
    "\n",
    "#fig, ax = plt.subplots(nrows=1, ncols=2, figsize=(8, 4))\n",
    "\n",
    "#ax[0].plot(range(1, len(cost_) + 1), cost_, marker='o')\n",
    "#ax[0].set_xlabel('Epochs')\n",
    "#ax[0].set_ylabel('Sum-squared-error')\n",
    "\n",
    "\n",
    "#plt.tight_layout()\n",
    "#plt.show()"
   ]
  },
  {
   "cell_type": "code",
   "execution_count": 28,
   "id": "7b371a38",
   "metadata": {},
   "outputs": [],
   "source": [
    "#test di ottimizzazione\n",
    "adaline_optimization(eta,4000)"
   ]
  },
  {
   "cell_type": "code",
   "execution_count": 58,
   "id": "57490177",
   "metadata": {},
   "outputs": [
    {
     "data": {
      "text/plain": [
       "[0.001, 0.0001, 1e-05, 1e-06, 1e-07, 1e-08]"
      ]
     },
     "execution_count": 58,
     "metadata": {},
     "output_type": "execute_result"
    }
   ],
   "source": []
  },
  {
   "cell_type": "code",
   "execution_count": 63,
   "id": "b286c42f",
   "metadata": {},
   "outputs": [],
   "source": [
    "#grid search\n",
    "\n",
    "\n",
    "\n",
    "for n_iter in range(1000,51000,1000):\n",
    "    for eta in [10**-3,10**-4,10**-5,10**-6,10**-7,10**-8]:\n",
    "        adaline_optimization([eta,n_iter])\n",
    "\n",
    "\n"
   ]
  },
  {
   "cell_type": "code",
   "execution_count": null,
   "id": "ebea650c",
   "metadata": {},
   "outputs": [],
   "source": []
  }
 ],
 "metadata": {
  "kernelspec": {
   "display_name": "base",
   "language": "python",
   "name": "python3"
  },
  "language_info": {
   "codemirror_mode": {
    "name": "ipython",
    "version": 3
   },
   "file_extension": ".py",
   "mimetype": "text/x-python",
   "name": "python",
   "nbconvert_exporter": "python",
   "pygments_lexer": "ipython3",
   "version": "3.9.13"
  },
  "vscode": {
   "interpreter": {
    "hash": "794fa56378d4ad69d2a168c212e23e3b5d991e1d6928963825fb65fd993e9042"
   }
  }
 },
 "nbformat": 4,
 "nbformat_minor": 5
}
