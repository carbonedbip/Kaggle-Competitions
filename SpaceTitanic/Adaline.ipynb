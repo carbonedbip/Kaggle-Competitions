{
 "cells": [
  {
   "cell_type": "code",
   "execution_count": 82,
   "id": "8e9a46d2",
   "metadata": {},
   "outputs": [],
   "source": [
    "import pandas as pd\n",
    "import seaborn as sns\n",
    "import math\n",
    "from collections import Counter\n",
    "from sklearn.impute import SimpleImputer\n",
    "from sklearn.preprocessing import OneHotEncoder"
   ]
  },
  {
   "cell_type": "code",
   "execution_count": 83,
   "id": "286e7c77",
   "metadata": {},
   "outputs": [],
   "source": [
    "#imputo la moda\n",
    "\n",
    "def imputo_moda(df):\n",
    "    mode_imputer = SimpleImputer(strategy='most_frequent')\n",
    "    df_2 = df.copy()\n",
    "    df_2.iloc[:,:] = mode_imputer.fit_transform(df_2)\n",
    "    return(df_2)\n",
    "\n",
    "#One Hot Encodic\n",
    "\n",
    "def OHE(df,lista_colonne):\n",
    "\n",
    "    for nome_colonna in lista_colonne:\n",
    "        df_onehot_encoded = pd.get_dummies(df[nome_colonna])\n",
    "        df = pd.concat([df, df_onehot_encoded], axis=1)\n",
    "\n",
    "    df.drop(labels = lista_colonne, inplace=True,axis=1)\n",
    "    return(df)\n",
    "    \n",
    "#trasformo true/falso in 0/1\n",
    "\n",
    "def TrueFalsetoInt(df,lista_colonne):\n",
    "\n",
    "    for nome_colonna in lista_colonne:\n",
    "        df[nome_colonna] = df[nome_colonna]*1\n",
    "    return(df)"
   ]
  },
  {
   "cell_type": "code",
   "execution_count": 84,
   "id": "92eb62f9",
   "metadata": {},
   "outputs": [],
   "source": [
    "df_train = pd.read_csv(\"train.csv\")\n",
    "df_test = pd.read_csv(\"test.csv\")"
   ]
  },
  {
   "cell_type": "code",
   "execution_count": 85,
   "id": "eed775ff",
   "metadata": {},
   "outputs": [],
   "source": [
    "#Splitto la cabina\n",
    "\n",
    "df_cabin = df_train['Cabin'].str.split(\"/\",expand=True)\n",
    "df_cabin.columns = ['deck', 'num', 'side']\n",
    "\n",
    "df_train = pd.concat([df_train, df_cabin], axis=1)\n",
    "df_train.drop(labels = 'Cabin', inplace=True,axis=1)\n",
    "\n",
    "df_cabin = df_test['Cabin'].str.split(\"/\",expand=True)\n",
    "df_cabin.columns = ['deck', 'num', 'side']\n",
    "\n",
    "df_test = pd.concat([df_test, df_cabin], axis=1)\n",
    "df_test.drop(labels = 'Cabin', inplace=True,axis=1)"
   ]
  },
  {
   "cell_type": "code",
   "execution_count": 86,
   "id": "2daaba90",
   "metadata": {},
   "outputs": [],
   "source": [
    "#Imputo tutto con la moda\n",
    "df_train_2 = imputo_moda(df_train)\n",
    "df_test_2 = imputo_moda(df_test)\n",
    "\n",
    "# one-hot-encoding di HomePlanet // Destination\n",
    "#Destination\n",
    "\n",
    "df_train_2 = OHE(df_train_2,['HomePlanet','Destination','side','deck'])\n",
    "df_test_2 = OHE(df_test_2,['HomePlanet','Destination','side','deck'])\n",
    "\n",
    "\n",
    "#trasformo True/False in 1/0\n",
    "\n",
    "df_train_2 = TrueFalsetoInt(df_train_2,['CryoSleep','VIP','Transported'])\n",
    "df_test_2 = TrueFalsetoInt(df_test_2,['CryoSleep','VIP'])\n",
    "\n",
    "\n",
    "#Tolgo le colonne che non mi servono o non so come usare ancora\n",
    "\n",
    "df_train_2.drop(labels = ['PassengerId','Name','num'], inplace=True,axis=1)\n",
    "df_test_2.drop(labels = ['PassengerId','Name','num'], inplace=True,axis=1)"
   ]
  },
  {
   "cell_type": "code",
   "execution_count": 87,
   "id": "578b8c96",
   "metadata": {},
   "outputs": [],
   "source": [
    "df_train_2.to_excel('train_1.xlsx')\n",
    "df_test_2.to_excel('test_1.xlsx')"
   ]
  },
  {
   "cell_type": "code",
   "execution_count": null,
   "id": "a4914ea9",
   "metadata": {},
   "outputs": [],
   "source": []
  }
 ],
 "metadata": {
  "kernelspec": {
   "display_name": "base",
   "language": "python",
   "name": "python3"
  },
  "language_info": {
   "codemirror_mode": {
    "name": "ipython",
    "version": 3
   },
   "file_extension": ".py",
   "mimetype": "text/x-python",
   "name": "python",
   "nbconvert_exporter": "python",
   "pygments_lexer": "ipython3",
   "version": "3.9.13"
  },
  "vscode": {
   "interpreter": {
    "hash": "794fa56378d4ad69d2a168c212e23e3b5d991e1d6928963825fb65fd993e9042"
   }
  }
 },
 "nbformat": 4,
 "nbformat_minor": 5
}
