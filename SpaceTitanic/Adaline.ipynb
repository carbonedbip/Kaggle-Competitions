{
 "cells": [
  {
   "cell_type": "code",
   "execution_count": 2,
   "id": "8e9a46d2",
   "metadata": {},
   "outputs": [],
   "source": [
    "import pandas as pd\n",
    "import seaborn as sns\n",
    "import math\n",
    "import numpy as np\n",
    "from collections import Counter\n",
    "from sklearn.impute import SimpleImputer\n",
    "from sklearn.preprocessing import OneHotEncoder\n",
    "import matplotlib.pyplot as plt\n",
    "\n",
    "from sklearn.preprocessing import StandardScaler\n",
    "scaler = StandardScaler()"
   ]
  },
  {
   "cell_type": "code",
   "execution_count": 205,
   "id": "2c237572",
   "metadata": {},
   "outputs": [],
   "source": [
    "def net_input(w_, X):\n",
    "    \"\"\"Calculate net input\"\"\"\n",
    "    return np.dot(X, w_[1:]) + w_[0]\n",
    "\n",
    "def activation(self, X):\n",
    "    \"\"\"Compute linear activation\"\"\"\n",
    "    return X\n",
    "\n",
    "def predict(self, X):\n",
    "    \"\"\"Return class label after unit step\"\"\"\n",
    "    return np.where(self.activation(self.net_input(X)) >= 0.0, 1, -1)"
   ]
  },
  {
   "cell_type": "code",
   "execution_count": 1,
   "id": "92eb62f9",
   "metadata": {},
   "outputs": [
    {
     "ename": "NameError",
     "evalue": "name 'pd' is not defined",
     "output_type": "error",
     "traceback": [
      "\u001b[1;31m---------------------------------------------------------------------------\u001b[0m",
      "\u001b[1;31mNameError\u001b[0m                                 Traceback (most recent call last)",
      "\u001b[1;32m~\\AppData\\Local\\Temp\\ipykernel_25560\\2100263162.py\u001b[0m in \u001b[0;36m<module>\u001b[1;34m\u001b[0m\n\u001b[0;32m      1\u001b[0m \u001b[1;31m#Import Data\u001b[0m\u001b[1;33m\u001b[0m\u001b[1;33m\u001b[0m\u001b[0m\n\u001b[0;32m      2\u001b[0m \u001b[1;33m\u001b[0m\u001b[0m\n\u001b[1;32m----> 3\u001b[1;33m \u001b[0mdf_train\u001b[0m \u001b[1;33m=\u001b[0m \u001b[0mpd\u001b[0m\u001b[1;33m.\u001b[0m\u001b[0mread_excel\u001b[0m\u001b[1;33m(\u001b[0m\u001b[1;34m\"train_split.xlsx\"\u001b[0m\u001b[1;33m,\u001b[0m\u001b[0mindex_col\u001b[0m\u001b[1;33m=\u001b[0m\u001b[1;32mNone\u001b[0m\u001b[1;33m)\u001b[0m\u001b[1;33m\u001b[0m\u001b[1;33m\u001b[0m\u001b[0m\n\u001b[0m\u001b[0;32m      4\u001b[0m \u001b[0mdf_test\u001b[0m \u001b[1;33m=\u001b[0m \u001b[0mpd\u001b[0m\u001b[1;33m.\u001b[0m\u001b[0mread_excel\u001b[0m\u001b[1;33m(\u001b[0m\u001b[1;34m\"test_split.xlsx\"\u001b[0m\u001b[1;33m,\u001b[0m\u001b[0mindex_col\u001b[0m\u001b[1;33m=\u001b[0m\u001b[1;32mNone\u001b[0m\u001b[1;33m)\u001b[0m\u001b[1;33m\u001b[0m\u001b[1;33m\u001b[0m\u001b[0m\n\u001b[0;32m      5\u001b[0m \u001b[1;33m\u001b[0m\u001b[0m\n",
      "\u001b[1;31mNameError\u001b[0m: name 'pd' is not defined"
     ]
    }
   ],
   "source": [
    "#Import Data\n",
    "\n",
    "df_train = pd.read_excel(\"train_split.xlsx\",index_col=None)\n",
    "df_test = pd.read_excel(\"test_split.xlsx\",index_col=None)\n",
    "\n",
    "#Addestramento\n",
    "\n",
    "X_train = df_train.drop(columns=[\"Transported\"])\n",
    "X_train[['Age','RoomService','FoodCourt','ShoppingMall','Spa','VRDeck']] = scaler.fit_transform(X_train[['Age','RoomService','FoodCourt','ShoppingMall','Spa','VRDeck']])\n",
    "y_train = df_train[\"Transported\"].replace(0,-1)\n",
    "\n",
    "\n",
    "#test\n",
    "\n",
    "X_test = df_test.drop(columns=[\"Transported\"])\n",
    "X_test[['Age','RoomService','FoodCourt','ShoppingMall','Spa','VRDeck']] = scaler.fit_transform(X_test[['Age','RoomService','FoodCourt','ShoppingMall','Spa','VRDeck']])\n",
    "y_test = df_test[\"Transported\"].replace(0,-1)"
   ]
  },
  {
   "cell_type": "code",
   "execution_count": 272,
   "id": "f8eae250",
   "metadata": {},
   "outputs": [],
   "source": [
    "#Parametri\n",
    "random_state = 1\n",
    "eta = 0.0000001\n",
    "n_iter = 40000"
   ]
  },
  {
   "cell_type": "code",
   "execution_count": 260,
   "id": "d8a7e0f3",
   "metadata": {},
   "outputs": [],
   "source": [
    "#Addestramento ed estrapolazione pesi w_\n",
    "\n",
    "rgen = np.random.RandomState(random_state)\n",
    "w_ = rgen.normal(loc=0.0, scale=0.01, size=1 + X_train.shape[1])\n",
    "cost_ = []\n",
    "\n",
    "for i in range(n_iter):\n",
    "    output = net_input(w_ ,X_train)\n",
    "    errors = (y_train - output)\n",
    "    w_[1:] += eta * X_train.T.dot(errors)\n",
    "    w_[0] += eta * errors.sum()\n",
    "    cost = (errors**2).sum() / 2.0\n",
    "    cost_.append(cost)\n",
    "\n",
    "#Visualizzazione simulazione\n",
    "\n",
    "#fig, ax = plt.subplots(nrows=1, ncols=2, figsize=(8, 4))\n",
    "\n",
    "#ax[0].plot(range(1, len(cost_) + 1), cost_, marker='o')\n",
    "#ax[0].set_xlabel('Epochs')\n",
    "#ax[0].set_ylabel('Sum-squared-error')\n",
    "\n",
    "\n",
    "#plt.tight_layout()\n",
    "#plt.show()"
   ]
  },
  {
   "cell_type": "code",
   "execution_count": 271,
   "id": "8dfefe30",
   "metadata": {},
   "outputs": [
    {
     "data": {
      "text/plain": [
       "0.7676380368098159"
      ]
     },
     "execution_count": 271,
     "metadata": {},
     "output_type": "execute_result"
    }
   ],
   "source": [
    "#percentuale di predizioni corrette\n",
    "\n",
    "sum((np.where(net_input(w_,X_test) >= 0.0, 1, -1)==y_test)*1)/len(np.where(net_input(w_,X_test) >= 0.0, 1, -1)-y_test)"
   ]
  }
 ],
 "metadata": {
  "kernelspec": {
   "display_name": "base",
   "language": "python",
   "name": "python3"
  },
  "language_info": {
   "codemirror_mode": {
    "name": "ipython",
    "version": 3
   },
   "file_extension": ".py",
   "mimetype": "text/x-python",
   "name": "python",
   "nbconvert_exporter": "python",
   "pygments_lexer": "ipython3",
   "version": "3.9.13"
  },
  "vscode": {
   "interpreter": {
    "hash": "794fa56378d4ad69d2a168c212e23e3b5d991e1d6928963825fb65fd993e9042"
   }
  }
 },
 "nbformat": 4,
 "nbformat_minor": 5
}
