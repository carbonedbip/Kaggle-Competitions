{
 "cells": [
  {
   "cell_type": "code",
   "execution_count": 1,
   "id": "16c0375d",
   "metadata": {},
   "outputs": [],
   "source": [
    "#importo le librerie necessarie\n",
    "import numpy as np\n",
    "import pandas as pd\n",
    "\n",
    "#definisco l'algoritmo come una classe\n",
    "class Perceptron(object):\n",
    "    \n",
    "    #inizializzatore\n",
    "    def __init__(self, eta=0.01, n_iter=50, random_state=1):\n",
    "        self.eta = eta\n",
    "        self.n_iter = n_iter\n",
    "        self.random_state = random_state\n",
    "    \n",
    "    #funzione per il fitting dei dati di training\n",
    "    def fit(self, X, y):\n",
    "        rgen = np.random.RandomState(self.random_state)\n",
    "        self.w_ = rgen.normal (loc=0.0, scale=0.01, size=1+X.shape[1])\n",
    "        \n",
    "        self.errors_ = []\n",
    "        \n",
    "        for _ in range(self.n_iter):\n",
    "            errors = 0\n",
    "            for xi, target in zip(X, y):\n",
    "                update = self.eta * (target - self.predict(xi))\n",
    "                self.w_[1:] += update * xi\n",
    "                self.w_[0] += update\n",
    "                errors += int(update != 0.0)\n",
    "            self.errors_.append(errors)\n",
    "        return self\n",
    "    \n",
    "    #funzione per calcolare il net input\n",
    "    def net_input(self, X):\n",
    "        return np.dot(X, self.w_[1:]) + self.w_[0]\n",
    "    \n",
    "    #funzione per predire i valori delle y\n",
    "    def predict(self, X):\n",
    "        return np.where(self.net_input(X) >= 0.0, 1, -1)\n",
    "        "
   ]
  },
  {
   "cell_type": "code",
   "execution_count": 2,
   "id": "0fe2e850",
   "metadata": {},
   "outputs": [],
   "source": [
    "#import del dataset di training\n",
    "dataset = pd.read_excel(r\"C:\\Users\\fspadafora\\OneDrive - BUSINESS INTEGRATION PARTNERS SPA\\Desktop\\KAGGLE\\spaceship-titanic\\train_split.xlsx\")"
   ]
  },
  {
   "cell_type": "code",
   "execution_count": 3,
   "id": "4d128732",
   "metadata": {},
   "outputs": [],
   "source": [
    "#import del dataset di test\n",
    "df_test = pd.read_excel(r\"C:\\Users\\fspadafora\\OneDrive - BUSINESS INTEGRATION PARTNERS SPA\\Desktop\\KAGGLE\\spaceship-titanic\\test_split.xlsx\")"
   ]
  },
  {
   "cell_type": "code",
   "execution_count": 4,
   "id": "a799a135",
   "metadata": {},
   "outputs": [],
   "source": [
    "#trasformo la variabile target del trainng da 0/1 a 1/-1\n",
    "dataset['Transported'] = np.where(dataset['Transported'] == 0, -1, 1)"
   ]
  },
  {
   "cell_type": "code",
   "execution_count": 19,
   "id": "08ddae1a",
   "metadata": {},
   "outputs": [],
   "source": [
    "#trasformo la variabile target del test da 0/1 a 1/-1\n",
    "df_test['Transported'] = np.where(df_test['Transported'] == 0, -1, 1)"
   ]
  },
  {
   "cell_type": "code",
   "execution_count": 5,
   "id": "9e095ef0",
   "metadata": {},
   "outputs": [],
   "source": [
    "#standardizzo le variabili\n",
    "from sklearn.preprocessing import StandardScaler\n",
    "scaler = StandardScaler()\n",
    "\n",
    "#training\n",
    "dataset[['CryoSleep', 'Age', 'VIP', 'RoomService', 'FoodCourt','ShoppingMall', 'Spa', 'VRDeck', 'Earth', \n",
    "    'Europa','Mars', '55 Cancri e', 'PSO J318.5-22', 'TRAPPIST-1e', 'P', 'S', 'A','B', 'C', 'D', 'E', 'F', 'G', 'T'\n",
    "   ]] = scaler.fit_transform(dataset[['CryoSleep', 'Age', 'VIP', 'RoomService', 'FoodCourt','ShoppingMall', 'Spa', 'VRDeck', 'Earth', \n",
    "    'Europa','Mars', '55 Cancri e', 'PSO J318.5-22', 'TRAPPIST-1e', 'P', 'S', 'A','B', 'C', 'D', 'E', 'F', 'G', 'T']])\n",
    "\n",
    "#test\n",
    "df_test[['CryoSleep', 'Age', 'VIP', 'RoomService', 'FoodCourt','ShoppingMall', 'Spa', 'VRDeck', 'Earth', \n",
    "    'Europa','Mars', '55 Cancri e', 'PSO J318.5-22', 'TRAPPIST-1e', 'P', 'S', 'A','B', 'C', 'D', 'E', 'F', 'G', 'T'\n",
    "   ]] = scaler.fit_transform(df_test[['CryoSleep', 'Age', 'VIP', 'RoomService', 'FoodCourt','ShoppingMall', 'Spa', 'VRDeck', 'Earth', \n",
    "    'Europa','Mars', '55 Cancri e', 'PSO J318.5-22', 'TRAPPIST-1e', 'P', 'S', 'A','B', 'C', 'D', 'E', 'F', 'G', 'T']])"
   ]
  },
  {
   "cell_type": "code",
   "execution_count": 23,
   "id": "1211ca3e",
   "metadata": {},
   "outputs": [],
   "source": [
    "#preparo i vettori X e y di training\n",
    "y_ = dataset.iloc[0:, 8].values\n",
    "y = y_.reshape(len(y_), 1)\n",
    "X1 = dataset.iloc[0:, 0:7].values\n",
    "X2 = dataset.iloc[0:, 9:].values\n",
    "X = np.concatenate((X1,X2), axis=1)\n",
    "\n",
    "#preparo i vettori X e y di test\n",
    "X1t = df_test.iloc[0:, 0:7].values\n",
    "X2t = df_test.iloc[0:, 9:].values\n",
    "Xt = np.concatenate((X1t,X2t), axis=1)\n",
    "\n",
    "y_t = df_test.iloc[0:, 8].values\n",
    "yt = y_t.reshape(len(y_t), 1)"
   ]
  },
  {
   "cell_type": "code",
   "execution_count": 22,
   "id": "55ffe0e3",
   "metadata": {},
   "outputs": [
    {
     "data": {
      "text/plain": [
       "(6085, 1)"
      ]
     },
     "execution_count": 22,
     "metadata": {},
     "output_type": "execute_result"
    }
   ],
   "source": [
    "yt.shape"
   ]
  },
  {
   "cell_type": "code",
   "execution_count": 7,
   "id": "e30618f9",
   "metadata": {},
   "outputs": [],
   "source": [
    "#inizializzo un'istanza della classe Perceptron (ovvero dell'algoritmo)\n",
    "p = Perceptron(0.01, 255, 1)"
   ]
  },
  {
   "cell_type": "code",
   "execution_count": 8,
   "id": "3fa338e9",
   "metadata": {},
   "outputs": [
    {
     "data": {
      "text/plain": [
       "<__main__.Perceptron at 0x1fbc456cca0>"
      ]
     },
     "execution_count": 8,
     "metadata": {},
     "output_type": "execute_result"
    }
   ],
   "source": [
    "#lancio la funzione per il training del modello\n",
    "p.fit(X, y)"
   ]
  },
  {
   "cell_type": "code",
   "execution_count": 9,
   "id": "70e25217",
   "metadata": {},
   "outputs": [
    {
     "data": {
      "text/plain": [
       "0.6752670501232538"
      ]
     },
     "execution_count": 9,
     "metadata": {},
     "output_type": "execute_result"
    }
   ],
   "source": [
    "#valuto lo score sul training\n",
    "score = 1 - (p.errors_[(len(p.errors_) - 1)] / dataset.shape[0])\n",
    "score"
   ]
  },
  {
   "cell_type": "code",
   "execution_count": 10,
   "id": "b4af728d",
   "metadata": {},
   "outputs": [
    {
     "data": {
      "image/png": "[encoded data removed]",
      "text/plain": [
       "<Figure size 432x288 with 1 Axes>"
      ]
     },
     "metadata": {
      "needs_background": "light"
     },
     "output_type": "display_data"
    }
   ],
   "source": [
    "#plot the misclassification error for each epoch to check whether the algorithm converged and found a decision boundary\n",
    "import matplotlib.pyplot as plt\n",
    "plt.plot(range(1, len(p.errors_) + 1),\n",
    "p.errors_, marker='o')\n",
    "plt.xlabel('Epochs')\n",
    "plt.ylabel('Number of updates')\n",
    "plt.show()"
   ]
  },
  {
   "cell_type": "code",
   "execution_count": 11,
   "id": "91835fe2",
   "metadata": {},
   "outputs": [],
   "source": [
    "#invoco la funzione predict per predire i valori di 'Transported' del Test set\n",
    "prediction = p.predict(Xt)"
   ]
  },
  {
   "cell_type": "code",
   "execution_count": 12,
   "id": "87031a7d",
   "metadata": {},
   "outputs": [
    {
     "data": {
      "text/plain": [
       "0.34700920245398775"
      ]
     },
     "execution_count": 12,
     "metadata": {},
     "output_type": "execute_result"
    }
   ],
   "source": [
    "#calcolo lo score di test\n",
    "correct = 0\n",
    "for p1,p2 in zip(prediction, df_test['Transported']):\n",
    "    if p1 == p2: \n",
    "        correct += 1\n",
    "score = correct/len(prediction)\n",
    "score"
   ]
  },
  {
   "cell_type": "code",
   "execution_count": 26,
   "id": "4f965a71",
   "metadata": {},
   "outputs": [
    {
     "name": "stderr",
     "output_type": "stream",
     "text": [
      "C:\\Users\\fspadafora\\Anaconda3\\lib\\site-packages\\sklearn\\utils\\validation.py:63: DataConversionWarning: A column-vector y was passed when a 1d array was expected. Please change the shape of y to (n_samples, ), for example using ravel().\n",
      "  return f(*args, **kwargs)\n"
     ]
    },
    {
     "data": {
      "text/plain": [
       "0.723582580115037"
      ]
     },
     "execution_count": 26,
     "metadata": {},
     "output_type": "execute_result"
    }
   ],
   "source": [
    "#implementazione del Perceptron di sklearn come termine di paragone\n",
    "from sklearn.linear_model import Perceptron\n",
    "clf = Perceptron(tol=1e-3, random_state=0, eta0 = 0.01)\n",
    "clf.fit(X, y)\n",
    "Perceptron()\n",
    "clf.score(X, y)"
   ]
  },
  {
   "cell_type": "code",
   "execution_count": 25,
   "id": "9c168a72",
   "metadata": {},
   "outputs": [
    {
     "data": {
      "text/plain": [
       "0.7181748466257669"
      ]
     },
     "execution_count": 25,
     "metadata": {},
     "output_type": "execute_result"
    }
   ],
   "source": [
    "#score di test dell'algoritmo\n",
    "clf.score(Xt, yt)"
   ]
  },
  {
   "cell_type": "code",
   "execution_count": null,
   "id": "236fbdbb",
   "metadata": {},
   "outputs": [],
   "source": []
  }
 ],
 "metadata": {
  "kernelspec": {
   "display_name": "Python 3 (ipykernel)",
   "language": "python",
   "name": "python3"
  },
  "language_info": {
   "codemirror_mode": {
    "name": "ipython",
    "version": 3
   },
   "file_extension": ".py",
   "mimetype": "text/x-python",
   "name": "python",
   "nbconvert_exporter": "python",
   "pygments_lexer": "ipython3",
   "version": "3.9.7"
  }
 },
 "nbformat": 4,
 "nbformat_minor": 5
}
