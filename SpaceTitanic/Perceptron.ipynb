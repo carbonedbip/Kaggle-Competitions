{
 "cells": [
  {
   "cell_type": "code",
   "execution_count": 1,
   "id": "16c0375d",
   "metadata": {},
   "outputs": [],
   "source": [
    "#importo le librerie necessarie\n",
    "import numpy as np\n",
    "import pandas as pd\n",
    "\n",
    "#definisco l'algoritmo come una classe\n",
    "class Perceptron(object):\n",
    "    \n",
    "    #inizializzatore\n",
    "    def __init__(self, eta=0.01, n_iter=50, random_state=1):\n",
    "        self.eta = eta\n",
    "        self.n_iter = n_iter\n",
    "        self.random_state = random_state\n",
    "    \n",
    "    #funzione per il fitting dei dati di training\n",
    "    def fit(self, X, y):\n",
    "        rgen = np.random.RandomState(self.random_state)\n",
    "        self.w_ = rgen.normal (loc=0.0, scale=0.01, size=1+X.shape[1])\n",
    "        \n",
    "        self.errors_ = []\n",
    "        \n",
    "        for _ in range(self.n_iter):\n",
    "            errors = 0\n",
    "            for xi, target in zip(X, y):\n",
    "                update = self.eta * (target - self.predict(xi))\n",
    "                self.w_[1:] += update * xi\n",
    "                self.w_[0] += update\n",
    "                errors += int(update != 0.0)\n",
    "            self.errors_.append(errors)\n",
    "        return self\n",
    "    \n",
    "    #funzione per calcolare il net input\n",
    "    def net_input(self, X):\n",
    "        return np.dot(X, self.w_[1:]) + self.w_[0]\n",
    "    \n",
    "    #funzione per predire i valori delle y\n",
    "    def predict(self, X):\n",
    "        return np.where(self.net_input(X) >= 0.0, 1, -1)\n",
    "        "
   ]
  },
  {
   "cell_type": "code",
   "execution_count": 13,
   "id": "0fe2e850",
   "metadata": {},
   "outputs": [],
   "source": [
    "#import del dataset di training\n",
    "dataset = pd.read_excel(r\"C:\\Users\\fspadafora\\OneDrive - BUSINESS INTEGRATION PARTNERS SPA\\Desktop\\KAGGLE\\spaceship-titanic\\train_new.xlsx\")"
   ]
  },
  {
   "cell_type": "code",
   "execution_count": 14,
   "id": "60754e5c",
   "metadata": {},
   "outputs": [],
   "source": [
    "#import del dataset di test\n",
    "df_test = pd.read_excel(r\"C:\\Users\\fspadafora\\OneDrive - BUSINESS INTEGRATION PARTNERS SPA\\Desktop\\KAGGLE\\spaceship-titanic\\test_new.xlsx\")"
   ]
  },
  {
   "cell_type": "code",
   "execution_count": null,
   "id": "9653a5c0",
   "metadata": {},
   "outputs": [],
   "source": [
    "#NON RUNNARE CON DATASET AGGIORNATO\n",
    "#trasformo le due variabili binarie in true/false \n",
    "dataset['CryoSleep'] = np.where(dataset['CryoSleep'] > 0, 'True', 'False')\n",
    "dataset['VIP'] = np.where(dataset['VIP'] > 0, 'True', 'False')\n",
    "\n",
    "#rimuovo le variabili non numeriche dal dataset\n",
    "df = dataset.drop(['PassengerId', 'HomePlanet', 'CryoSleep', 'Cabin', 'Destination', 'VIP', 'Name'], axis=1)\n",
    "\n",
    "#rimuovo missing values\n",
    "df = df.dropna()"
   ]
  },
  {
   "cell_type": "code",
   "execution_count": 17,
   "id": "cc488e64",
   "metadata": {},
   "outputs": [],
   "source": [
    "#trasformo la variabile target da 0/1 a 1/-1\n",
    "dataset['Transported'] = np.where(dataset['Transported'] == 0, -1, 1)"
   ]
  },
  {
   "cell_type": "code",
   "execution_count": 18,
   "id": "9e095ef0",
   "metadata": {},
   "outputs": [],
   "source": [
    "#standardizzo le variabili\n",
    "from sklearn.preprocessing import StandardScaler\n",
    "scaler = StandardScaler()\n",
    "#df[['Age', 'RoomService', 'FoodCourt', 'ShoppingMall', 'Spa', 'VRDeck']] = scaler.fit_transform(df[['Age', 'RoomService', 'FoodCourt', 'ShoppingMall', 'Spa', 'VRDeck']])\n",
    "\n",
    "#training\n",
    "dataset[['CryoSleep', 'Age', 'VIP', 'RoomService', 'FoodCourt','ShoppingMall', 'Spa', 'VRDeck', 'Earth', \n",
    "    'Europa','Mars', '55 Cancri e', 'PSO J318.5-22', 'TRAPPIST-1e', 'P', 'S', 'A','B', 'C', 'D', 'E', 'F', 'G', 'T'\n",
    "   ]] = scaler.fit_transform(dataset[['CryoSleep', 'Age', 'VIP', 'RoomService', 'FoodCourt','ShoppingMall', 'Spa', 'VRDeck', 'Earth', \n",
    "    'Europa','Mars', '55 Cancri e', 'PSO J318.5-22', 'TRAPPIST-1e', 'P', 'S', 'A','B', 'C', 'D', 'E', 'F', 'G', 'T']])\n",
    "\n",
    "#test\n",
    "df_test[['CryoSleep', 'Age', 'VIP', 'RoomService', 'FoodCourt','ShoppingMall', 'Spa', 'VRDeck', 'Earth', \n",
    "    'Europa','Mars', '55 Cancri e', 'PSO J318.5-22', 'TRAPPIST-1e', 'P', 'S', 'A','B', 'C', 'D', 'E', 'F', 'G', 'T'\n",
    "   ]] = scaler.fit_transform(df_test[['CryoSleep', 'Age', 'VIP', 'RoomService', 'FoodCourt','ShoppingMall', 'Spa', 'VRDeck', 'Earth', \n",
    "    'Europa','Mars', '55 Cancri e', 'PSO J318.5-22', 'TRAPPIST-1e', 'P', 'S', 'A','B', 'C', 'D', 'E', 'F', 'G', 'T']])"
   ]
  },
  {
   "cell_type": "code",
   "execution_count": 24,
   "id": "1211ca3e",
   "metadata": {},
   "outputs": [],
   "source": [
    "#preparo i vettori X e y di training\n",
    "y_ = dataset.iloc[0:, 9].values\n",
    "y = y_.reshape(len(y_), 1)\n",
    "X1 = dataset.iloc[0:, 0:8].values\n",
    "X2 = dataset.iloc[0:, 9:].values\n",
    "X = np.concatenate((X1,X2), axis=1)\n",
    "#X = df.iloc[0:, [0,1]].values\n",
    "\n",
    "#preparo il vettore X di test\n",
    "Xt = df_test.iloc[0:, 0:].values"
   ]
  },
  {
   "cell_type": "code",
   "execution_count": null,
   "id": "89a13e1b",
   "metadata": {},
   "outputs": [],
   "source": [
    "#preparo gli array per il grafico nel caso di sole 2 features\n",
    "lX1 = []\n",
    "lX2 = []\n",
    "counter = 0\n",
    "for xi, target in zip(X, y):\n",
    "    if target == 1:\n",
    "        lX1.append(list(X[counter, (0,1)]))\n",
    "    else:\n",
    "        lX2.append(list(X[counter, (0,1)]))\n",
    "    counter += 1\n",
    "    \n",
    "X1 = np.asarray(lX1)\n",
    "X2 = np.asarray(lX2)"
   ]
  },
  {
   "cell_type": "code",
   "execution_count": null,
   "id": "d6eaa52c",
   "metadata": {},
   "outputs": [],
   "source": [
    "#faccio il grafico delle X nel caso di 2 sole features\n",
    "import matplotlib.pyplot as plt\n",
    "plt.scatter(X1[0:100,0], X1[0:100,1], color='red', marker='o', label='transposed = 1')\n",
    "plt.scatter(X2[0:100,0], X2[0:100,1], color='blue', marker='x',label='transposed = -1')"
   ]
  },
  {
   "cell_type": "code",
   "execution_count": 6,
   "id": "e30618f9",
   "metadata": {},
   "outputs": [],
   "source": [
    "#inizializzo un'istanza della classe Perceptron (ovvero dell'algoritmo)\n",
    "p = Perceptron(0.01, 260, 1)"
   ]
  },
  {
   "cell_type": "code",
   "execution_count": 7,
   "id": "3fa338e9",
   "metadata": {},
   "outputs": [
    {
     "data": {
      "text/plain": [
       "<__main__.Perceptron at 0x1dcc04c5fa0>"
      ]
     },
     "execution_count": 7,
     "metadata": {},
     "output_type": "execute_result"
    }
   ],
   "source": [
    "#lancio la funzione per il training del modello\n",
    "p.fit(X, y)"
   ]
  },
  {
   "cell_type": "code",
   "execution_count": 8,
   "id": "9b258d7f",
   "metadata": {},
   "outputs": [
    {
     "data": {
      "text/plain": [
       "array([-1.50183757e+02,  9.91138824e+01,  7.26946659e+03, -1.19224469e+03,\n",
       "       -5.83316569e+02, -4.17413733e+03,  5.34589929e+01,  7.95377271e+02,\n",
       "       -4.30260504e+03,  1.74662375e+04, -1.78447970e+03,  1.50119970e+03,\n",
       "        6.01198719e+02,  1.04313447e+03, -5.70123752e+01, -8.87649073e+02,\n",
       "       -1.35368433e+03,  1.35367383e+03, -1.02191848e+02,  1.32747725e+03,\n",
       "        8.38941463e+02, -4.01739831e+02, -1.02709615e+03, -6.94077788e+02,\n",
       "        2.92695382e+02,  6.09892913e+00])"
      ]
     },
     "execution_count": 8,
     "metadata": {},
     "output_type": "execute_result"
    }
   ],
   "source": [
    "#vedo i valori dei parametri\n",
    "p.w_"
   ]
  },
  {
   "cell_type": "code",
   "execution_count": 9,
   "id": "70e25217",
   "metadata": {},
   "outputs": [
    {
     "data": {
      "text/plain": [
       "0.6317726906706546"
      ]
     },
     "execution_count": 9,
     "metadata": {},
     "output_type": "execute_result"
    }
   ],
   "source": [
    "#valuto lo score\n",
    "score = 1 - (p.errors_[(len(p.errors_) - 1)] / dataset.shape[0])\n",
    "score"
   ]
  },
  {
   "cell_type": "code",
   "execution_count": 10,
   "id": "b4af728d",
   "metadata": {},
   "outputs": [
    {
     "data": {
      "image/png": "[encoded data removed]",
      "text/plain": [
       "<Figure size 432x288 with 1 Axes>"
      ]
     },
     "metadata": {
      "needs_background": "light"
     },
     "output_type": "display_data"
    }
   ],
   "source": [
    "#plot the misclassification error for each epoch to check whether the algorithm converged and found a decision boundary\n",
    "import matplotlib.pyplot as plt\n",
    "plt.plot(range(1, len(p.errors_) + 1),\n",
    "p.errors_, marker='o')\n",
    "plt.xlabel('Epochs')\n",
    "plt.ylabel('Number of updates')\n",
    "plt.show()"
   ]
  },
  {
   "cell_type": "code",
   "execution_count": 26,
   "id": "5b468399",
   "metadata": {},
   "outputs": [],
   "source": [
    "#invoco la funzione predict per predire i valori di 'Transported' del Test set\n",
    "prediction = p.predict(Xt)"
   ]
  },
  {
   "cell_type": "code",
   "execution_count": 11,
   "id": "21a7484a",
   "metadata": {},
   "outputs": [
    {
     "name": "stderr",
     "output_type": "stream",
     "text": [
      "C:\\Users\\fspadafora\\Anaconda3\\lib\\site-packages\\sklearn\\utils\\validation.py:63: DataConversionWarning: A column-vector y was passed when a 1d array was expected. Please change the shape of y to (n_samples, ), for example using ravel().\n",
      "  return f(*args, **kwargs)\n"
     ]
    },
    {
     "data": {
      "text/plain": [
       "0.5090302542275394"
      ]
     },
     "execution_count": 11,
     "metadata": {},
     "output_type": "execute_result"
    }
   ],
   "source": [
    "#implementazione del Perceptron di sklearn come termine di paragone\n",
    "from sklearn.linear_model import Perceptron\n",
    "clf = Perceptron(tol=1e-3, random_state=0, eta0 = 0.01)\n",
    "clf.fit(X, y)\n",
    "Perceptron()\n",
    "clf.score(X, y)"
   ]
  },
  {
   "cell_type": "code",
   "execution_count": null,
   "id": "8777cab8",
   "metadata": {},
   "outputs": [],
   "source": []
  }
 ],
 "metadata": {
  "kernelspec": {
   "display_name": "Python 3 (ipykernel)",
   "language": "python",
   "name": "python3"
  },
  "language_info": {
   "codemirror_mode": {
    "name": "ipython",
    "version": 3
   },
   "file_extension": ".py",
   "mimetype": "text/x-python",
   "name": "python",
   "nbconvert_exporter": "python",
   "pygments_lexer": "ipython3",
   "version": "3.9.7"
  }
 },
 "nbformat": 4,
 "nbformat_minor": 5
}
